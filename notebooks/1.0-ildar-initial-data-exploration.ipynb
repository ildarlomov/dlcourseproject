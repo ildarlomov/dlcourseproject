{
 "cells": [
  {
   "cell_type": "code",
   "execution_count": 2,
   "metadata": {},
   "outputs": [],
   "source": [
    "import pandas as pd\n",
    "import numpy as np"
   ]
  },
  {
   "cell_type": "code",
   "execution_count": 3,
   "metadata": {},
   "outputs": [
    {
     "name": "stdout",
     "output_type": "stream",
     "text": [
      "1.0-ildar-initial-data-exploration.ipynb\r\n"
     ]
    }
   ],
   "source": [
    "ls"
   ]
  },
  {
   "cell_type": "code",
   "execution_count": 5,
   "metadata": {},
   "outputs": [],
   "source": [
    "df = pd.read_csv('../data/raw/train_df.csv')"
   ]
  },
  {
   "cell_type": "code",
   "execution_count": 6,
   "metadata": {},
   "outputs": [],
   "source": [
    "pd.options.display.max_columns = 100"
   ]
  },
  {
   "cell_type": "code",
   "execution_count": 7,
   "metadata": {},
   "outputs": [
    {
     "data": {
      "text/html": [
       "<div>\n",
       "<style scoped>\n",
       "    .dataframe tbody tr th:only-of-type {\n",
       "        vertical-align: middle;\n",
       "    }\n",
       "\n",
       "    .dataframe tbody tr th {\n",
       "        vertical-align: top;\n",
       "    }\n",
       "\n",
       "    .dataframe thead th {\n",
       "        text-align: right;\n",
       "    }\n",
       "</style>\n",
       "<table border=\"1\" class=\"dataframe\">\n",
       "  <thead>\n",
       "    <tr style=\"text-align: right;\">\n",
       "      <th></th>\n",
       "      <th>crop_path</th>\n",
       "      <th>warp_path</th>\n",
       "      <th>person_id</th>\n",
       "      <th>video_id</th>\n",
       "      <th>track_id</th>\n",
       "      <th>frame_id</th>\n",
       "      <th>bbox_x</th>\n",
       "      <th>bbox_y</th>\n",
       "      <th>bbox_w</th>\n",
       "      <th>bbox_h</th>\n",
       "      <th>x0</th>\n",
       "      <th>y0</th>\n",
       "      <th>x1</th>\n",
       "      <th>y1</th>\n",
       "      <th>x2</th>\n",
       "      <th>y2</th>\n",
       "      <th>x3</th>\n",
       "      <th>y3</th>\n",
       "      <th>x4</th>\n",
       "      <th>y4</th>\n",
       "      <th>is_val</th>\n",
       "    </tr>\n",
       "  </thead>\n",
       "  <tbody>\n",
       "    <tr>\n",
       "      <th>0</th>\n",
       "      <td>00050593d7333113d45bb44b39379621/DJGvVAbyBBc/2...</td>\n",
       "      <td>00050593d7333113d45bb44b39379621/DJGvVAbyBBc/2...</td>\n",
       "      <td>00050593d7333113d45bb44b39379621</td>\n",
       "      <td>DJGvVAbyBBc</td>\n",
       "      <td>250f8b8ee05b39460dfd8f99457c4dc7</td>\n",
       "      <td>0</td>\n",
       "      <td>141</td>\n",
       "      <td>195</td>\n",
       "      <td>141</td>\n",
       "      <td>195</td>\n",
       "      <td>60</td>\n",
       "      <td>75</td>\n",
       "      <td>126</td>\n",
       "      <td>81</td>\n",
       "      <td>108</td>\n",
       "      <td>108</td>\n",
       "      <td>63</td>\n",
       "      <td>141</td>\n",
       "      <td>123</td>\n",
       "      <td>144</td>\n",
       "      <td>True</td>\n",
       "    </tr>\n",
       "    <tr>\n",
       "      <th>1</th>\n",
       "      <td>00050593d7333113d45bb44b39379621/DJGvVAbyBBc/2...</td>\n",
       "      <td>00050593d7333113d45bb44b39379621/DJGvVAbyBBc/2...</td>\n",
       "      <td>00050593d7333113d45bb44b39379621</td>\n",
       "      <td>DJGvVAbyBBc</td>\n",
       "      <td>250f8b8ee05b39460dfd8f99457c4dc7</td>\n",
       "      <td>1</td>\n",
       "      <td>147</td>\n",
       "      <td>198</td>\n",
       "      <td>147</td>\n",
       "      <td>198</td>\n",
       "      <td>63</td>\n",
       "      <td>78</td>\n",
       "      <td>129</td>\n",
       "      <td>81</td>\n",
       "      <td>114</td>\n",
       "      <td>111</td>\n",
       "      <td>66</td>\n",
       "      <td>144</td>\n",
       "      <td>129</td>\n",
       "      <td>147</td>\n",
       "      <td>True</td>\n",
       "    </tr>\n",
       "    <tr>\n",
       "      <th>2</th>\n",
       "      <td>00050593d7333113d45bb44b39379621/DJGvVAbyBBc/2...</td>\n",
       "      <td>00050593d7333113d45bb44b39379621/DJGvVAbyBBc/2...</td>\n",
       "      <td>00050593d7333113d45bb44b39379621</td>\n",
       "      <td>DJGvVAbyBBc</td>\n",
       "      <td>250f8b8ee05b39460dfd8f99457c4dc7</td>\n",
       "      <td>2</td>\n",
       "      <td>144</td>\n",
       "      <td>192</td>\n",
       "      <td>144</td>\n",
       "      <td>192</td>\n",
       "      <td>57</td>\n",
       "      <td>75</td>\n",
       "      <td>126</td>\n",
       "      <td>78</td>\n",
       "      <td>108</td>\n",
       "      <td>105</td>\n",
       "      <td>60</td>\n",
       "      <td>138</td>\n",
       "      <td>126</td>\n",
       "      <td>141</td>\n",
       "      <td>True</td>\n",
       "    </tr>\n",
       "    <tr>\n",
       "      <th>3</th>\n",
       "      <td>00050593d7333113d45bb44b39379621/DJGvVAbyBBc/2...</td>\n",
       "      <td>00050593d7333113d45bb44b39379621/DJGvVAbyBBc/2...</td>\n",
       "      <td>00050593d7333113d45bb44b39379621</td>\n",
       "      <td>DJGvVAbyBBc</td>\n",
       "      <td>250f8b8ee05b39460dfd8f99457c4dc7</td>\n",
       "      <td>3</td>\n",
       "      <td>165</td>\n",
       "      <td>207</td>\n",
       "      <td>165</td>\n",
       "      <td>207</td>\n",
       "      <td>39</td>\n",
       "      <td>90</td>\n",
       "      <td>114</td>\n",
       "      <td>75</td>\n",
       "      <td>78</td>\n",
       "      <td>117</td>\n",
       "      <td>51</td>\n",
       "      <td>153</td>\n",
       "      <td>129</td>\n",
       "      <td>141</td>\n",
       "      <td>True</td>\n",
       "    </tr>\n",
       "    <tr>\n",
       "      <th>4</th>\n",
       "      <td>00050593d7333113d45bb44b39379621/DJGvVAbyBBc/2...</td>\n",
       "      <td>00050593d7333113d45bb44b39379621/DJGvVAbyBBc/2...</td>\n",
       "      <td>00050593d7333113d45bb44b39379621</td>\n",
       "      <td>DJGvVAbyBBc</td>\n",
       "      <td>250f8b8ee05b39460dfd8f99457c4dc7</td>\n",
       "      <td>4</td>\n",
       "      <td>162</td>\n",
       "      <td>204</td>\n",
       "      <td>162</td>\n",
       "      <td>204</td>\n",
       "      <td>33</td>\n",
       "      <td>84</td>\n",
       "      <td>111</td>\n",
       "      <td>72</td>\n",
       "      <td>72</td>\n",
       "      <td>114</td>\n",
       "      <td>45</td>\n",
       "      <td>150</td>\n",
       "      <td>123</td>\n",
       "      <td>138</td>\n",
       "      <td>True</td>\n",
       "    </tr>\n",
       "  </tbody>\n",
       "</table>\n",
       "</div>"
      ],
      "text/plain": [
       "                                           crop_path  \\\n",
       "0  00050593d7333113d45bb44b39379621/DJGvVAbyBBc/2...   \n",
       "1  00050593d7333113d45bb44b39379621/DJGvVAbyBBc/2...   \n",
       "2  00050593d7333113d45bb44b39379621/DJGvVAbyBBc/2...   \n",
       "3  00050593d7333113d45bb44b39379621/DJGvVAbyBBc/2...   \n",
       "4  00050593d7333113d45bb44b39379621/DJGvVAbyBBc/2...   \n",
       "\n",
       "                                           warp_path  \\\n",
       "0  00050593d7333113d45bb44b39379621/DJGvVAbyBBc/2...   \n",
       "1  00050593d7333113d45bb44b39379621/DJGvVAbyBBc/2...   \n",
       "2  00050593d7333113d45bb44b39379621/DJGvVAbyBBc/2...   \n",
       "3  00050593d7333113d45bb44b39379621/DJGvVAbyBBc/2...   \n",
       "4  00050593d7333113d45bb44b39379621/DJGvVAbyBBc/2...   \n",
       "\n",
       "                          person_id     video_id  \\\n",
       "0  00050593d7333113d45bb44b39379621  DJGvVAbyBBc   \n",
       "1  00050593d7333113d45bb44b39379621  DJGvVAbyBBc   \n",
       "2  00050593d7333113d45bb44b39379621  DJGvVAbyBBc   \n",
       "3  00050593d7333113d45bb44b39379621  DJGvVAbyBBc   \n",
       "4  00050593d7333113d45bb44b39379621  DJGvVAbyBBc   \n",
       "\n",
       "                           track_id  frame_id  bbox_x  bbox_y  bbox_w  bbox_h  \\\n",
       "0  250f8b8ee05b39460dfd8f99457c4dc7         0     141     195     141     195   \n",
       "1  250f8b8ee05b39460dfd8f99457c4dc7         1     147     198     147     198   \n",
       "2  250f8b8ee05b39460dfd8f99457c4dc7         2     144     192     144     192   \n",
       "3  250f8b8ee05b39460dfd8f99457c4dc7         3     165     207     165     207   \n",
       "4  250f8b8ee05b39460dfd8f99457c4dc7         4     162     204     162     204   \n",
       "\n",
       "   x0  y0   x1  y1   x2   y2  x3   y3   x4   y4  is_val  \n",
       "0  60  75  126  81  108  108  63  141  123  144    True  \n",
       "1  63  78  129  81  114  111  66  144  129  147    True  \n",
       "2  57  75  126  78  108  105  60  138  126  141    True  \n",
       "3  39  90  114  75   78  117  51  153  129  141    True  \n",
       "4  33  84  111  72   72  114  45  150  123  138    True  "
      ]
     },
     "execution_count": 7,
     "metadata": {},
     "output_type": "execute_result"
    }
   ],
   "source": [
    "df.head()"
   ]
  },
  {
   "cell_type": "code",
   "execution_count": 8,
   "metadata": {},
   "outputs": [],
   "source": [
    "descr = np.load('../data/raw/train_df_descriptors.npy')"
   ]
  },
  {
   "cell_type": "code",
   "execution_count": 9,
   "metadata": {},
   "outputs": [
    {
     "data": {
      "text/plain": [
       "(154420, 512)"
      ]
     },
     "execution_count": 9,
     "metadata": {},
     "output_type": "execute_result"
    }
   ],
   "source": [
    "descr.shape"
   ]
  },
  {
   "cell_type": "code",
   "execution_count": 10,
   "metadata": {},
   "outputs": [
    {
     "data": {
      "text/plain": [
       "(154420, 21)"
      ]
     },
     "execution_count": 10,
     "metadata": {},
     "output_type": "execute_result"
    }
   ],
   "source": [
    "df.shape"
   ]
  },
  {
   "cell_type": "code",
   "execution_count": 11,
   "metadata": {},
   "outputs": [],
   "source": [
    "track_order = pd.read_csv('../data/raw/train_df_track_order_df.csv')"
   ]
  },
  {
   "cell_type": "code",
   "execution_count": 13,
   "metadata": {},
   "outputs": [
    {
     "data": {
      "text/html": [
       "<div>\n",
       "<style scoped>\n",
       "    .dataframe tbody tr th:only-of-type {\n",
       "        vertical-align: middle;\n",
       "    }\n",
       "\n",
       "    .dataframe tbody tr th {\n",
       "        vertical-align: top;\n",
       "    }\n",
       "\n",
       "    .dataframe thead th {\n",
       "        text-align: right;\n",
       "    }\n",
       "</style>\n",
       "<table border=\"1\" class=\"dataframe\">\n",
       "  <thead>\n",
       "    <tr style=\"text-align: right;\">\n",
       "      <th></th>\n",
       "      <th>track_id</th>\n",
       "      <th>person_id</th>\n",
       "    </tr>\n",
       "  </thead>\n",
       "  <tbody>\n",
       "    <tr>\n",
       "      <th>0</th>\n",
       "      <td>250f8b8ee05b39460dfd8f99457c4dc7</td>\n",
       "      <td>00050593d7333113d45bb44b39379621</td>\n",
       "    </tr>\n",
       "    <tr>\n",
       "      <th>1</th>\n",
       "      <td>f53c6de832c48eb35610f84d60409ed5</td>\n",
       "      <td>00050593d7333113d45bb44b39379621</td>\n",
       "    </tr>\n",
       "    <tr>\n",
       "      <th>2</th>\n",
       "      <td>93be3adedcbc2a1e20559d1116fdbb8c</td>\n",
       "      <td>00050593d7333113d45bb44b39379621</td>\n",
       "    </tr>\n",
       "    <tr>\n",
       "      <th>3</th>\n",
       "      <td>83d0df1195c88ba61bb14e1e4422ddd7</td>\n",
       "      <td>00050593d7333113d45bb44b39379621</td>\n",
       "    </tr>\n",
       "    <tr>\n",
       "      <th>4</th>\n",
       "      <td>a01a124be27134c07d10d9bc8e97cd09</td>\n",
       "      <td>00050593d7333113d45bb44b39379621</td>\n",
       "    </tr>\n",
       "  </tbody>\n",
       "</table>\n",
       "</div>"
      ],
      "text/plain": [
       "                           track_id                         person_id\n",
       "0  250f8b8ee05b39460dfd8f99457c4dc7  00050593d7333113d45bb44b39379621\n",
       "1  f53c6de832c48eb35610f84d60409ed5  00050593d7333113d45bb44b39379621\n",
       "2  93be3adedcbc2a1e20559d1116fdbb8c  00050593d7333113d45bb44b39379621\n",
       "3  83d0df1195c88ba61bb14e1e4422ddd7  00050593d7333113d45bb44b39379621\n",
       "4  a01a124be27134c07d10d9bc8e97cd09  00050593d7333113d45bb44b39379621"
      ]
     },
     "execution_count": 13,
     "metadata": {},
     "output_type": "execute_result"
    }
   ],
   "source": [
    "track_order.head()"
   ]
  },
  {
   "cell_type": "code",
   "execution_count": 14,
   "metadata": {},
   "outputs": [
    {
     "data": {
      "text/plain": [
       "False    115140\n",
       "True      39280\n",
       "Name: is_val, dtype: int64"
      ]
     },
     "execution_count": 14,
     "metadata": {},
     "output_type": "execute_result"
    }
   ],
   "source": [
    "df.is_val.value_counts()"
   ]
  },
  {
   "cell_type": "code",
   "execution_count": 15,
   "metadata": {},
   "outputs": [
    {
     "data": {
      "text/plain": [
       "935"
      ]
     },
     "execution_count": 15,
     "metadata": {},
     "output_type": "execute_result"
    }
   ],
   "source": [
    "len(np.unique(df.person_id.values))"
   ]
  },
  {
   "cell_type": "code",
   "execution_count": 16,
   "metadata": {},
   "outputs": [
    {
     "data": {
      "text/plain": [
       "15442"
      ]
     },
     "execution_count": 16,
     "metadata": {},
     "output_type": "execute_result"
    }
   ],
   "source": [
    "len(np.unique(df.track_id.values))"
   ]
  },
  {
   "cell_type": "code",
   "execution_count": 17,
   "metadata": {},
   "outputs": [
    {
     "data": {
      "text/plain": [
       "15442"
      ]
     },
     "execution_count": 17,
     "metadata": {},
     "output_type": "execute_result"
    }
   ],
   "source": [
    "len(track_order.track_id.values)"
   ]
  },
  {
   "cell_type": "code",
   "execution_count": 18,
   "metadata": {},
   "outputs": [
    {
     "data": {
      "text/plain": [
       "15442"
      ]
     },
     "execution_count": 18,
     "metadata": {},
     "output_type": "execute_result"
    }
   ],
   "source": [
    "len(np.unique(track_order.track_id.values))"
   ]
  },
  {
   "cell_type": "code",
   "execution_count": 21,
   "metadata": {},
   "outputs": [],
   "source": [
    "# averaged train descriptors from the example\n",
    "avg_train_desc = np.load('../models/baseline/train_df_agg_descriptors.npy')"
   ]
  },
  {
   "cell_type": "code",
   "execution_count": 22,
   "metadata": {},
   "outputs": [
    {
     "data": {
      "text/plain": [
       "(15442, 512)"
      ]
     },
     "execution_count": 22,
     "metadata": {},
     "output_type": "execute_result"
    }
   ],
   "source": [
    "avg_train_desc.shape"
   ]
  },
  {
   "cell_type": "markdown",
   "metadata": {},
   "source": [
    "### From where do we get pairs???\n",
    "Мы считаем по самому тупому методу - для каждого чувака берем ембединги по каждому его треку и сравниваем с каждой фоткой из его референс имеджесов и считаем что это класс 1.\n",
    "Потом также сравниваем эмбеддинги по каждому треку с со всеми не его фотками и считаем что это класс 0\n",
    "Далее строим roc-curve по этим дистанциям и меткам классов и смотрим значение в fpr = 10^(-6)"
   ]
  },
  {
   "cell_type": "code",
   "execution_count": 32,
   "metadata": {},
   "outputs": [
    {
     "name": "stdout",
     "output_type": "stream",
     "text": [
      "20\n"
     ]
    }
   ],
   "source": [
    "for p_id, subdf in track_order.groupby('person_id'):\n",
    "    print(len(subdf))\n",
    "    break"
   ]
  },
  {
   "cell_type": "code",
   "execution_count": 27,
   "metadata": {},
   "outputs": [],
   "source": [
    "train_gt_df = pd.read_csv('../data/raw/train_gt_df.csv')"
   ]
  },
  {
   "cell_type": "code",
   "execution_count": 29,
   "metadata": {},
   "outputs": [
    {
     "data": {
      "text/html": [
       "<div>\n",
       "<style scoped>\n",
       "    .dataframe tbody tr th:only-of-type {\n",
       "        vertical-align: middle;\n",
       "    }\n",
       "\n",
       "    .dataframe tbody tr th {\n",
       "        vertical-align: top;\n",
       "    }\n",
       "\n",
       "    .dataframe thead th {\n",
       "        text-align: right;\n",
       "    }\n",
       "</style>\n",
       "<table border=\"1\" class=\"dataframe\">\n",
       "  <thead>\n",
       "    <tr style=\"text-align: right;\">\n",
       "      <th></th>\n",
       "      <th>crop_path</th>\n",
       "      <th>warp_path</th>\n",
       "      <th>person_id</th>\n",
       "      <th>person_img_id</th>\n",
       "      <th>bbox_x</th>\n",
       "      <th>bbox_y</th>\n",
       "      <th>bbox_w</th>\n",
       "      <th>bbox_h</th>\n",
       "      <th>x0</th>\n",
       "      <th>y0</th>\n",
       "      <th>x1</th>\n",
       "      <th>y1</th>\n",
       "      <th>x2</th>\n",
       "      <th>y2</th>\n",
       "      <th>x3</th>\n",
       "      <th>y3</th>\n",
       "      <th>x4</th>\n",
       "      <th>y4</th>\n",
       "    </tr>\n",
       "  </thead>\n",
       "  <tbody>\n",
       "    <tr>\n",
       "      <th>0</th>\n",
       "      <td>cb0b5cb9792a436f8cc6f8d2efc26948/gt_imgs/0000_...</td>\n",
       "      <td>cb0b5cb9792a436f8cc6f8d2efc26948/gt_imgs/0000_...</td>\n",
       "      <td>cb0b5cb9792a436f8cc6f8d2efc26948</td>\n",
       "      <td>0</td>\n",
       "      <td>167</td>\n",
       "      <td>193</td>\n",
       "      <td>167</td>\n",
       "      <td>193</td>\n",
       "      <td>32</td>\n",
       "      <td>94</td>\n",
       "      <td>97</td>\n",
       "      <td>73</td>\n",
       "      <td>62</td>\n",
       "      <td>110</td>\n",
       "      <td>49</td>\n",
       "      <td>155</td>\n",
       "      <td>114</td>\n",
       "      <td>136</td>\n",
       "    </tr>\n",
       "    <tr>\n",
       "      <th>1</th>\n",
       "      <td>cb0b5cb9792a436f8cc6f8d2efc26948/gt_imgs/0001_...</td>\n",
       "      <td>cb0b5cb9792a436f8cc6f8d2efc26948/gt_imgs/0001_...</td>\n",
       "      <td>cb0b5cb9792a436f8cc6f8d2efc26948</td>\n",
       "      <td>1</td>\n",
       "      <td>285</td>\n",
       "      <td>383</td>\n",
       "      <td>285</td>\n",
       "      <td>383</td>\n",
       "      <td>113</td>\n",
       "      <td>157</td>\n",
       "      <td>227</td>\n",
       "      <td>141</td>\n",
       "      <td>207</td>\n",
       "      <td>184</td>\n",
       "      <td>128</td>\n",
       "      <td>282</td>\n",
       "      <td>248</td>\n",
       "      <td>269</td>\n",
       "    </tr>\n",
       "    <tr>\n",
       "      <th>2</th>\n",
       "      <td>cb0b5cb9792a436f8cc6f8d2efc26948/gt_imgs/0002_...</td>\n",
       "      <td>cb0b5cb9792a436f8cc6f8d2efc26948/gt_imgs/0002_...</td>\n",
       "      <td>cb0b5cb9792a436f8cc6f8d2efc26948</td>\n",
       "      <td>2</td>\n",
       "      <td>183</td>\n",
       "      <td>235</td>\n",
       "      <td>183</td>\n",
       "      <td>235</td>\n",
       "      <td>48</td>\n",
       "      <td>110</td>\n",
       "      <td>128</td>\n",
       "      <td>107</td>\n",
       "      <td>90</td>\n",
       "      <td>137</td>\n",
       "      <td>56</td>\n",
       "      <td>186</td>\n",
       "      <td>129</td>\n",
       "      <td>182</td>\n",
       "    </tr>\n",
       "    <tr>\n",
       "      <th>3</th>\n",
       "      <td>cb0b5cb9792a436f8cc6f8d2efc26948/gt_imgs/0003_...</td>\n",
       "      <td>cb0b5cb9792a436f8cc6f8d2efc26948/gt_imgs/0003_...</td>\n",
       "      <td>cb0b5cb9792a436f8cc6f8d2efc26948</td>\n",
       "      <td>3</td>\n",
       "      <td>231</td>\n",
       "      <td>281</td>\n",
       "      <td>231</td>\n",
       "      <td>281</td>\n",
       "      <td>49</td>\n",
       "      <td>121</td>\n",
       "      <td>152</td>\n",
       "      <td>119</td>\n",
       "      <td>94</td>\n",
       "      <td>152</td>\n",
       "      <td>48</td>\n",
       "      <td>214</td>\n",
       "      <td>157</td>\n",
       "      <td>213</td>\n",
       "    </tr>\n",
       "    <tr>\n",
       "      <th>4</th>\n",
       "      <td>cb0b5cb9792a436f8cc6f8d2efc26948/gt_imgs/0004_...</td>\n",
       "      <td>cb0b5cb9792a436f8cc6f8d2efc26948/gt_imgs/0004_...</td>\n",
       "      <td>cb0b5cb9792a436f8cc6f8d2efc26948</td>\n",
       "      <td>4</td>\n",
       "      <td>220</td>\n",
       "      <td>285</td>\n",
       "      <td>220</td>\n",
       "      <td>285</td>\n",
       "      <td>53</td>\n",
       "      <td>131</td>\n",
       "      <td>152</td>\n",
       "      <td>119</td>\n",
       "      <td>106</td>\n",
       "      <td>169</td>\n",
       "      <td>57</td>\n",
       "      <td>214</td>\n",
       "      <td>166</td>\n",
       "      <td>203</td>\n",
       "    </tr>\n",
       "  </tbody>\n",
       "</table>\n",
       "</div>"
      ],
      "text/plain": [
       "                                           crop_path  \\\n",
       "0  cb0b5cb9792a436f8cc6f8d2efc26948/gt_imgs/0000_...   \n",
       "1  cb0b5cb9792a436f8cc6f8d2efc26948/gt_imgs/0001_...   \n",
       "2  cb0b5cb9792a436f8cc6f8d2efc26948/gt_imgs/0002_...   \n",
       "3  cb0b5cb9792a436f8cc6f8d2efc26948/gt_imgs/0003_...   \n",
       "4  cb0b5cb9792a436f8cc6f8d2efc26948/gt_imgs/0004_...   \n",
       "\n",
       "                                           warp_path  \\\n",
       "0  cb0b5cb9792a436f8cc6f8d2efc26948/gt_imgs/0000_...   \n",
       "1  cb0b5cb9792a436f8cc6f8d2efc26948/gt_imgs/0001_...   \n",
       "2  cb0b5cb9792a436f8cc6f8d2efc26948/gt_imgs/0002_...   \n",
       "3  cb0b5cb9792a436f8cc6f8d2efc26948/gt_imgs/0003_...   \n",
       "4  cb0b5cb9792a436f8cc6f8d2efc26948/gt_imgs/0004_...   \n",
       "\n",
       "                          person_id  person_img_id  bbox_x  bbox_y  bbox_w  \\\n",
       "0  cb0b5cb9792a436f8cc6f8d2efc26948              0     167     193     167   \n",
       "1  cb0b5cb9792a436f8cc6f8d2efc26948              1     285     383     285   \n",
       "2  cb0b5cb9792a436f8cc6f8d2efc26948              2     183     235     183   \n",
       "3  cb0b5cb9792a436f8cc6f8d2efc26948              3     231     281     231   \n",
       "4  cb0b5cb9792a436f8cc6f8d2efc26948              4     220     285     220   \n",
       "\n",
       "   bbox_h   x0   y0   x1   y1   x2   y2   x3   y3   x4   y4  \n",
       "0     193   32   94   97   73   62  110   49  155  114  136  \n",
       "1     383  113  157  227  141  207  184  128  282  248  269  \n",
       "2     235   48  110  128  107   90  137   56  186  129  182  \n",
       "3     281   49  121  152  119   94  152   48  214  157  213  \n",
       "4     285   53  131  152  119  106  169   57  214  166  203  "
      ]
     },
     "execution_count": 29,
     "metadata": {},
     "output_type": "execute_result"
    }
   ],
   "source": [
    "train_gt_df.head()"
   ]
  },
  {
   "cell_type": "code",
   "execution_count": 30,
   "metadata": {},
   "outputs": [
    {
     "data": {
      "text/plain": [
       "935"
      ]
     },
     "execution_count": 30,
     "metadata": {},
     "output_type": "execute_result"
    }
   ],
   "source": [
    "len(np.unique(track_order.person_id.values))"
   ]
  },
  {
   "cell_type": "code",
   "execution_count": null,
   "metadata": {},
   "outputs": [],
   "source": [
    "# algorithm\n",
    "\n",
    "agg_descr_arr = np.load(conf.predicted_descr_path)\n",
    "test_track_order_df = pd.read_csv(conf.test_track_order_df)\n",
    "test_gt_df = pd.read_csv(conf.test_gt_df_path)\n",
    "gt_descr = np.load(conf.gt_descriptors_path)\n",
    "\n",
    "dist_arr = []\n",
    "labels_arr = []\n",
    "\n",
    "#for each person in test_track_order_file\n",
    "for curr_person_id, subdf in tqdm(test_track_order_df.groupby('person_id')):\n",
    "    # get gt_df that person\n",
    "    gt_subdf = test_gt_df[test_gt_df.person_id == curr_person_id]\n",
    "    # for each track with THIS person \n",
    "    for idx in subdf.index.values:\n",
    "        # for each gt image of that person\n",
    "        for jdx in gt_subdf.index.values:\n",
    "            # compute the norm of the diff vector on some aggregated descriptor of the track\n",
    "            # by that trach id with the gt_descriptor of a single photo\n",
    "            dist = np.linalg.norm(agg_descr_arr[idx] - gt_descr[jdx])\n",
    "            # add this to distances\n",
    "            dist_arr.append(dist)\n",
    "            # add positive label\n",
    "            labels_arr.append(1)\n",
    "    \n",
    "    # get gt_df of not this person (all others)\n",
    "    gt_subdf = test_gt_df[test_gt_df.person_id != curr_person_id]\n",
    "    # for each track with this person \n",
    "    for idx in subdf.index.values:\n",
    "        # for each gt image of ANY other person\n",
    "        for jdx in gt_subdf.index.values:\n",
    "            # compute the norm of the diff vector on some aggregated descriptor (from the NNet)of the track\n",
    "            # by that track id with the gt_descriptor of a single photo\n",
    "            dist = np.linalg.norm(agg_descr_arr[idx] - gt_descr[jdx])\n",
    "            # add this to distances\n",
    "            dist_arr.append(dist)\n",
    "            # add positive label\n",
    "            labels_arr.append(0)"
   ]
  }
 ],
 "metadata": {
  "kernelspec": {
   "display_name": "Python 3",
   "language": "python",
   "name": "python3"
  },
  "language_info": {
   "codemirror_mode": {
    "name": "ipython",
    "version": 3
   },
   "file_extension": ".py",
   "mimetype": "text/x-python",
   "name": "python",
   "nbconvert_exporter": "python",
   "pygments_lexer": "ipython3",
   "version": "3.6.4"
  }
 },
 "nbformat": 4,
 "nbformat_minor": 2
}
